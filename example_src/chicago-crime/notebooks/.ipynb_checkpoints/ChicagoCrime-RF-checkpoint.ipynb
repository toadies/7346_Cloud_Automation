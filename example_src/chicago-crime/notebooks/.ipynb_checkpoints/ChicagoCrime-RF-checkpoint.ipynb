{
 "cells": [
  {
   "cell_type": "code",
   "execution_count": 34,
   "metadata": {},
   "outputs": [],
   "source": [
    "def get_one_hot_encodings(df, cols):\n",
    "    result = pd.DataFrame()\n",
    "    i = 0\n",
    "    for col in cols:\n",
    "        dummies = pd.get_dummies(df[col],prefix=col)\n",
    "        if( i == 0 ):\n",
    "            result = dummies.copy()\n",
    "        else:\n",
    "            result = pd.concat((result, dummies), axis=1)\n",
    "        i+=1\n",
    "    return result\n",
    "\n",
    "def reduce_features(df, verbose = False):\n",
    "    # calculate the correlation matrix\n",
    "    corr_matrix  = df.corr().abs()\n",
    "\n",
    "    # Select upper triangle of correlation matrix\n",
    "    upper = corr_matrix.where(np.triu(np.ones(corr_matrix.shape), k=1).astype(np.bool))\n",
    "\n",
    "    # Find index of feature columns with correlation greater than 0.95\n",
    "    to_drop = [column for column in upper.columns if any(upper[column] > 0.95)]\n",
    "    \n",
    "    #Get all of the correlation values > 95%\n",
    "    x = np.where(upper > 0.95)\n",
    "\n",
    "    #Display all field combinations with > 95% correlation\n",
    "    cf = pd.DataFrame()\n",
    "    cf['Field1'] = upper.columns[x[1]]\n",
    "    cf['Field2'] = upper.index[x[0]]\n",
    "\n",
    "    #Get the correlation values for every field combination. (There must be a more pythonic way to do this!)\n",
    "    corr = [0] * len(cf)\n",
    "    for i in range(0, len(cf)):\n",
    "        corr[i] =  upper[cf['Field1'][i]][cf['Field2'][i]] \n",
    "\n",
    "    cf['Correlation'] = corr\n",
    "\n",
    "    if( verbose ):\n",
    "        print('There are ', str(len(cf['Field1'])), ' field correlations > 95%.')\n",
    "        display(cf)\n",
    "        \n",
    "        print('Dropping the following ', str(len(to_drop)), ' highly correlated fields.')\n",
    "        to_drop\n",
    "        \n",
    "    #Check columns before drop \n",
    "    if( verbose ):\n",
    "        print('\\r\\n*********Before: Dropping Highly Correlated Fields*************************************')\n",
    "        display(df.info(verbose=False))\n",
    "\n",
    "    # Drop the highly correlated features from our training data \n",
    "    df = df.drop(to_drop, axis=1)\n",
    "\n",
    "    #Check columns after drop \n",
    "    if( verbose ):\n",
    "        print('\\r\\n*********After: Dropping Highly Correlated Fields**************************************')\n",
    "        df.info(verbose=False)\n",
    "    \n",
    "    return df\n"
   ]
  },
  {
   "cell_type": "code",
   "execution_count": 26,
   "metadata": {},
   "outputs": [
    {
     "name": "stdout",
     "output_type": "stream",
     "text": [
      "columns before reducer (9832, 688)\n",
      "columns after reducer (9832, 667)\n",
      "Final Size (9832, 672)\n",
      "Response [ True  True  True False False False  True False False False]\n"
     ]
    }
   ],
   "source": [
    "import numpy as np\n",
    "import pandas as pd\n",
    "\n",
    "df = pd.read_csv(\"../data/chicagoCrimes10k.csv\")\n",
    "df = df.dropna().copy()\n",
    "strs = [\n",
    "#     \"Block\",\n",
    "    \"IUCR\",\n",
    "    \"Primary Type\",\n",
    "#     \"Description\",\n",
    "#     \"Location Description\",\n",
    "\n",
    "    \"Beat\",\n",
    "    \"District\",\n",
    "    \"Ward\",\n",
    "    \"Community Area\",\n",
    "    \"FBI Code\"\n",
    "]\n",
    "\n",
    "#     \"Domestic\",\n",
    "#     \"X Coordinate\",\n",
    "#     \"Y Coordinate\",\n",
    "#     \"Latitude\",\n",
    "#     \"Longitude\"\n",
    "\n",
    "crimes = get_one_hot_encodings(df, strs)\n",
    "\n",
    "print(\"columns before reducer\",crimes.shape)\n",
    "crimes = reduce_features(crimes)\n",
    "print(\"columns after reducer\",crimes.shape)\n",
    "\n",
    "crimes = pd.concat([\n",
    "        crimes,\n",
    "        df[[\"Domestic\",\"X Coordinate\",\"Y Coordinate\",\"Latitude\",\"Longitude\"]]\n",
    "    ], axis=1)\n",
    "\n",
    "print(\"Final Size\", crimes.shape)\n",
    "arrests = df[\"Arrest\"].values\n",
    "print(\"Response\",arrests[0:10])"
   ]
  },
  {
   "cell_type": "code",
   "execution_count": 15,
   "metadata": {},
   "outputs": [
    {
     "name": "stdout",
     "output_type": "stream",
     "text": [
      "Response [ True  True  True  True False False False  True False False]\n"
     ]
    }
   ],
   "source": []
  },
  {
   "cell_type": "code",
   "execution_count": 31,
   "metadata": {},
   "outputs": [
    {
     "name": "stdout",
     "output_type": "stream",
     "text": [
      "Fitting 5 folds for each of 36 candidates, totalling 180 fits\n"
     ]
    },
    {
     "name": "stderr",
     "output_type": "stream",
     "text": [
      "[Parallel(n_jobs=-2)]: Using backend LokyBackend with 11 concurrent workers.\n",
      "[Parallel(n_jobs=-2)]: Done  28 tasks      | elapsed:   12.6s\n",
      "[Parallel(n_jobs=-2)]: Done 180 out of 180 | elapsed:  2.5min finished\n"
     ]
    }
   ],
   "source": [
    "import numpy as np\n",
    "import pandas as pd\n",
    "import pickle\n",
    "from sklearn.model_selection import GridSearchCV\n",
    "from sklearn.pipeline import Pipeline\n",
    "from sklearn.ensemble import RandomForestClassifier\n",
    "from sklearn.model_selection import KFold\n",
    "\n",
    "X = crimes.values\n",
    "y = arrests\n",
    "\n",
    "# Creat eth Cross Validation Objected used for all tests\n",
    "num_cv_iterations = 5\n",
    "random_st = 42\n",
    "kfold_cv = KFold(\n",
    "    n_splits=num_cv_iterations,\n",
    "    random_state = random_st\n",
    ")\n",
    "\n",
    "clf = RandomForestClassifier(random_state=42)\n",
    "\n",
    "grid_params = [{\n",
    "    \"max_features\" : [\"auto\",\"log2\",0.20, 0.30],\n",
    "    \"n_estimators\" : [10,50,100],\n",
    "    \"min_samples_leaf\" : [25, 50, 100]\n",
    "}]\n",
    "\n",
    "grid_clf = GridSearchCV(\n",
    "    estimator = clf, \n",
    "    param_grid=grid_params, \n",
    "    cv=kfold_cv,\n",
    "    refit='auc',\n",
    "    n_jobs=-2,verbose=1,return_train_score=False)\n",
    "\n",
    "grid_clf.fit(X, y)\n",
    "\n",
    "# Save Model\n",
    "filename = '../model/HasDetections_GridSearch_RF_final.pkl'\n",
    "pickle.dump(grid_clf, open(filename, 'wb'))"
   ]
  },
  {
   "cell_type": "code",
   "execution_count": 41,
   "metadata": {},
   "outputs": [
    {
     "name": "stdout",
     "output_type": "stream",
     "text": [
      "GridSearchCV for 36 candidate parameter settings.\n",
      "{'max_features': 0.2, 'min_samples_leaf': 25, 'n_estimators': 10}\n",
      "Accuracy_Mean:  0.8807973962571196\n",
      "Accuracy_Std:  0.001719669028223565\n"
     ]
    }
   ],
   "source": [
    "import pickle\n",
    "grid_clf = pickle.load(open(\"../model/HasDetections_GridSearch_RF_final.pkl\", 'rb'))\n",
    "\n",
    "print(\"GridSearchCV for \"+ str( len(grid_clf.cv_results_['params']) ) +\" candidate parameter settings.\")\n",
    "\n",
    "print( grid_clf.best_params_ )\n",
    "# print( grid_clf.cv_results_ )\n",
    "\n",
    "print( \"Accuracy_Mean: \",grid_clf.cv_results_[\"mean_test_score\"][grid_clf.best_index_] )\n",
    "print( \"Accuracy_Std: \",grid_clf.cv_results_[\"std_test_score\"][grid_clf.best_index_] )\n"
   ]
  },
  {
   "cell_type": "code",
   "execution_count": null,
   "metadata": {},
   "outputs": [],
   "source": []
  },
  {
   "cell_type": "code",
   "execution_count": null,
   "metadata": {},
   "outputs": [],
   "source": []
  }
 ],
 "metadata": {
  "kernelspec": {
   "display_name": "Python 3",
   "language": "python",
   "name": "python3"
  },
  "language_info": {
   "codemirror_mode": {
    "name": "ipython",
    "version": 3
   },
   "file_extension": ".py",
   "mimetype": "text/x-python",
   "name": "python",
   "nbconvert_exporter": "python",
   "pygments_lexer": "ipython3",
   "version": "3.7.0"
  }
 },
 "nbformat": 4,
 "nbformat_minor": 2
}
