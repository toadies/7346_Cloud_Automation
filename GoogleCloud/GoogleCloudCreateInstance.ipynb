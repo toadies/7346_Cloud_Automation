{
 "cells": [
  {
   "cell_type": "markdown",
   "metadata": {},
   "source": [
    "https://cloud.google.com/compute/docs/tutorials/python-guide"
   ]
  },
  {
   "cell_type": "markdown",
   "metadata": {},
   "source": [
    "Listing instances\n",
    "Using the Cloud Client Libraries for Python, you can list instances by using the compute.instances().list method. You need to provide the project ID and the zone for which you want to list instances. For example"
   ]
  },
  {
   "cell_type": "code",
   "execution_count": 38,
   "metadata": {},
   "outputs": [
    {
     "name": "stdout",
     "output_type": "stream",
     "text": [
      "C:/Users/blaine.brewer/Documents/Python/CloudComputingBCTV/GoogleCloud/Keys/cloudcomputingbctv-b548c53b3cf0.json\n"
     ]
    }
   ],
   "source": [
    "# before running the following code it is necessary to create a google cloud project\n",
    "# it is also necessary to create a service account and associate with above project.  Save the key to your machine\n",
    "# console.cloud.google.com/iam-admin/serviceaccounts\n",
    "\n",
    "\n",
    "import os\n",
    "os.environ['GOOGLE_APPLICATION_CREDENTIALS'] = 'C:/Users/blaine.brewer/Documents/Python/CloudComputingBCTV/GoogleCloud/Keys/cloudcomputingbctv-b548c53b3cf0.json'\n",
    "print(os.environ['GOOGLE_APPLICATION_CREDENTIALS'])"
   ]
  },
  {
   "cell_type": "code",
   "execution_count": 4,
   "metadata": {},
   "outputs": [],
   "source": [
    "import os"
   ]
  },
  {
   "cell_type": "code",
   "execution_count": 1,
   "metadata": {},
   "outputs": [],
   "source": [
    "file_source = 'c:/Users/blaine.brewer/Documents/Python/CloudComputingBCTV/'"
   ]
  },
  {
   "cell_type": "code",
   "execution_count": null,
   "metadata": {},
   "outputs": [],
   "source": [
    "#create bucket\n",
    "\n",
    "os.system('gsutil mb -p cloudcomputingbctv -c standard -l us-central1 -b off gs://bctv-storage')"
   ]
  },
  {
   "cell_type": "code",
   "execution_count": null,
   "metadata": {},
   "outputs": [],
   "source": [
    "# upload files to bucket\n",
    "os.system('gsutil cp ' + file_source + 'model.py gs://bctv-storage')\n",
    "os.system('gsutil cp ' + file_source + 'iris_train.csv gs://bctv-storage')\n",
    "os.system('gsutil cp ' + file_source + 'iris_test.csv gs://bctv-storage')\n",
    "os.system('gsutil cp ' + file_source + 'requirements.txt gs://bctv-storage')"
   ]
  },
  {
   "cell_type": "code",
   "execution_count": null,
   "metadata": {},
   "outputs": [],
   "source": [
    "#\n",
    "os.system('gcloud compute instances create bctv-compute --zone us-central1-a --project cloudcomputingbctv --metadata-from-file startup-script=' + file_source + 'bctv-startup-script.sh')"
   ]
  },
  {
   "cell_type": "code",
   "execution_count": 25,
   "metadata": {},
   "outputs": [
    {
     "data": {
      "text/plain": [
       "0"
      ]
     },
     "execution_count": 25,
     "metadata": {},
     "output_type": "execute_result"
    }
   ],
   "source": [
    "#ssh to instance\n",
    "\n",
    "os.system('gcloud compute ssh bctv-compute --project cloudcomputingbctv --zone us-central1-a')"
   ]
  },
  {
   "cell_type": "code",
   "execution_count": 3,
   "metadata": {},
   "outputs": [
    {
     "data": {
      "text/plain": [
       "0"
      ]
     },
     "execution_count": 3,
     "metadata": {},
     "output_type": "execute_result"
    }
   ],
   "source": [
    "# upload files to compute instance\n",
    "# not needed\n",
    "# os.system('gcloud compute scp c:/users/blaine.brewer/documents/python/cloudcomputingbctv/beta_derivative.py bctv-compute:/tmp --zone us-central1-a --project cloudcomputingbctv')\n",
    "# os.system('gcloud compute scp c:/users/blaine.brewer/documents/python/cloudcomputingbctv/iris_test.csv bctv-compute:/tmp --zone us-central1-a --project cloudcomputingbctv')\n",
    "# os.system('gcloud compute scp c:/users/blaine.brewer/documents/python/cloudcomputingbctv/iris_train.csv bctv-compute:/tmp --zone us-central1-a --project cloudcomputingbctv')\n",
    "# os.system('gcloud compute scp c:/users/blaine.brewer/documents/python/cloudcomputingbctv/model.py bctv-compute:/tmp --zone us-central1-a --project cloudcomputingbctv')\n",
    "\n",
    "\n"
   ]
  },
  {
   "cell_type": "code",
   "execution_count": 26,
   "metadata": {},
   "outputs": [
    {
     "data": {
      "text/plain": [
       "0"
      ]
     },
     "execution_count": 26,
     "metadata": {},
     "output_type": "execute_result"
    }
   ],
   "source": [
    "# Remove files from bucket\n",
    "os.system('gsutil rm gs://bctv-storage/*')"
   ]
  },
  {
   "cell_type": "code",
   "execution_count": 27,
   "metadata": {},
   "outputs": [
    {
     "data": {
      "text/plain": [
       "0"
      ]
     },
     "execution_count": 27,
     "metadata": {},
     "output_type": "execute_result"
    }
   ],
   "source": [
    "# Remove bucket\n",
    "os.system('gsutil rb gs://bctv-storage')"
   ]
  },
  {
   "cell_type": "code",
   "execution_count": null,
   "metadata": {},
   "outputs": [],
   "source": [
    "# remove instance\n",
    "\n",
    "os.system('gcloud compute instances delete bctv-compute --project cloudcomputingbctv --zone us-central1-a ')\n"
   ]
  },
  {
   "cell_type": "code",
   "execution_count": 37,
   "metadata": {},
   "outputs": [
    {
     "name": "stdout",
     "output_type": "stream",
     "text": [
      "\n"
     ]
    }
   ],
   "source": [
    "# stop instance\n",
    "\n",
    "os.system('gcloud compute intances stop bctv-compute --project cloudcomputingbctv --zone us-central1-a')\n"
   ]
  },
  {
   "cell_type": "code",
   "execution_count": null,
   "metadata": {},
   "outputs": [],
   "source": [
    "# start stopped intstance\n",
    "\n",
    "os.system('gcloud compute instances start bctv-compute --project cloudcomputingbctv --zone us-central1-a')\n"
   ]
  }
 ],
 "metadata": {
  "kernelspec": {
   "display_name": "Python 3",
   "language": "python",
   "name": "python3"
  },
  "language_info": {
   "codemirror_mode": {
    "name": "ipython",
    "version": 3
   },
   "file_extension": ".py",
   "mimetype": "text/x-python",
   "name": "python",
   "nbconvert_exporter": "python",
   "pygments_lexer": "ipython3",
   "version": "3.7.3"
  }
 },
 "nbformat": 4,
 "nbformat_minor": 2
}
