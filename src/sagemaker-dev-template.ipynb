{
 "cells": [
  {
   "cell_type": "code",
   "execution_count": null,
   "metadata": {},
   "outputs": [],
   "source": [
    "###  SageMaker\n",
    "###\n",
    "###\n",
    "###  Template creates SageMaker env:\n",
    "#\n",
    "#      1. Create AWS Code Repository from github\n",
    "#\n",
    "#      2. Create AWS Notebook Instance --- connect to github repository. Creates an Amazon SageMaker notebook instance. A notebook instance is a machine learning (ML) compute instance running on a Jupyter notebook.\n",
    "#         In a CreateNotebookInstance request, specify the type of ML compute instance that you want to run. Amazon SageMaker launches the instance, installs common libraries that you can use to explore datasets for model training, and attaches an ML storage volume to the notebook instance.\n",
    "#         Amazon SageMaker also provides a set of example notebooks. Each notebook demonstrates how to use Amazon SageMaker with a specific algorithm or with a machine learning framework.\n",
    "#        \n",
    "#         After receiving the request, Amazon SageMaker does the following:\n",
    "#           a. Creates a network interface in the Amazon SageMaker VPC.\n",
    "#           b. (Option) If you specified SubnetId , Amazon SageMaker creates a network interface in your own VPC, which is inferred from the subnet ID that you provide in the input. When creating this network interface, Amazon SageMaker attaches the security group that you specified in the request to the network interface that it creates in your VPC.\n",
    "#           c. Launches an EC2 instance of the type specified in the request in the Amazon SageMaker VPC. If you specified SubnetId of your VPC, Amazon SageMaker specifies both network interfaces when launching this instance. This enables inbound traffic from your own VPC to the notebook instance, assuming that the security groups allow it.\n",
    "#      \n",
    "#         After creating the notebook instance, Amazon SageMaker returns its Amazon Resource Name (ARN). You can't change the name of a notebook instance after you create it.\n",
    "#\n",
    "#      3. Create S3 Training bucket and  Model artifacts bucket\n",
    "#\n",
    "#      4. Upload training file to bucket\n",
    "#\n",
    "#      5. Train - Python Built-in  or Container  -- Store Model artifact in S3 Model artifact bucket\n",
    "#  \n",
    "#      6. Model Deploy - Python\n",
    "#\n",
    "#      7. Create API Gateway point to Lambda Function\n",
    "#\n",
    "#      8. Create Lambda Function to execute SageMaker Endpoint\n",
    "#  \n",
    "#      9. Postman to call API Gateway and return results\n",
    "\n",
    "\n"
   ]
  },
  {
   "cell_type": "code",
   "execution_count": 2,
   "metadata": {},
   "outputs": [],
   "source": [
    "import boto3\n",
    "\n",
    "client = boto3.client('sagemaker')"
   ]
  },
  {
   "cell_type": "code",
   "execution_count": 1,
   "metadata": {},
   "outputs": [
    {
     "ename": "NameError",
     "evalue": "name 'client' is not defined",
     "output_type": "error",
     "traceback": [
      "\u001b[0;31m---------------------------------------------------------------------------\u001b[0m",
      "\u001b[0;31mNameError\u001b[0m                                 Traceback (most recent call last)",
      "\u001b[0;32m<ipython-input-1-27ebcdd91a5c>\u001b[0m in \u001b[0;36m<module>\u001b[0;34m()\u001b[0m\n\u001b[1;32m      6\u001b[0m \u001b[0;31m#\u001b[0m\u001b[0;34m\u001b[0m\u001b[0;34m\u001b[0m\u001b[0m\n\u001b[1;32m      7\u001b[0m \u001b[0;34m\u001b[0m\u001b[0m\n\u001b[0;32m----> 8\u001b[0;31m response = client.create_code_repository(\n\u001b[0m\u001b[1;32m      9\u001b[0m     \u001b[0mCodeRepositoryName\u001b[0m\u001b[0;34m=\u001b[0m\u001b[0;34m'sm-git-dev-repository'\u001b[0m\u001b[0;34m,\u001b[0m\u001b[0;34m\u001b[0m\u001b[0m\n\u001b[1;32m     10\u001b[0m     GitConfig={\n",
      "\u001b[0;31mNameError\u001b[0m: name 'client' is not defined"
     ]
    }
   ],
   "source": [
    "###  #1 AWS Code Respository to link to data science code base\n",
    "#\n",
    "#        a.  Need to use AWS Secrets Manager to create Secret Name --- ARN is available by clicking on Secret Name\n",
    "#\n",
    "#        b.  Point to URL of github with code\n",
    "#\n",
    "\n",
    "response = client.create_code_repository(\n",
    "    CodeRepositoryName='sm-git-dev-repository',\n",
    "    GitConfig={\n",
    "        'RepositoryUrl': 'https://github.com/toadies/7346_Cloud_Automation',\n",
    "        'Branch': 'master',\n",
    "        'SecretArn': 'git-secret'\n",
    "    }\n",
    ")\n",
    "response"
   ]
  },
  {
   "cell_type": "code",
   "execution_count": 1,
   "metadata": {},
   "outputs": [
    {
     "data": {
      "text/plain": [
       "{'CodeRepositoryArn': 'arn:aws:sagemaker:us-east-1:697525789718:code-repository/sm-git-dev-repository',\n",
       " 'ResponseMetadata': {'RequestId': 'df8e8b10-0cdb-42f8-9afb-68f1d69b5f5a',\n",
       "  'HTTPStatusCode': 200,\n",
       "  'HTTPHeaders': {'x-amzn-requestid': 'df8e8b10-0cdb-42f8-9afb-68f1d69b5f5a',\n",
       "   'content-type': 'application/x-amz-json-1.1',\n",
       "   'content-length': '102',\n",
       "   'date': 'Sun, 03 Nov 2019 22:52:18 GMT'},\n",
       "  'RetryAttempts': 0}}"
      ]
     },
     "execution_count": 1,
     "metadata": {},
     "output_type": "execute_result"
    }
   ],
   "source": [
    "###  #1 AWS Code Respository to link to data science code base\n",
    "#\n",
    "#        a.  Need to use AWS Secrets Manager to create Secret Name --- ARN is available by clicking on Secret Name\n",
    "#\n",
    "#        b.  Point to URL of github with code\n",
    "#\n",
    "\n",
    "import boto3\n",
    "\n",
    "client = boto3.client('sagemaker')\n",
    "\n",
    "response = client.create_code_repository(\n",
    "    CodeRepositoryName='sm-git-dev-repository',  ## arg\n",
    "    GitConfig={\n",
    "        'RepositoryUrl': 'https://github.com/toadies/7346_Cloud_Automation',  ##arg\n",
    "        'Branch': 'master',\n",
    "        'SecretArn': 'arn:aws:secretsmanager:us-east-1:697525789718:secret:git-secret-NnkzF8'  \n",
    "    }\n",
    ")\n",
    "response\n"
   ]
  },
  {
   "cell_type": "code",
   "execution_count": 2,
   "metadata": {},
   "outputs": [
    {
     "data": {
      "text/plain": [
       "{'NotebookInstanceArn': 'arn:aws:sagemaker:us-east-1:697525789718:notebook-instance/sm-dev-iris-1',\n",
       " 'ResponseMetadata': {'RequestId': '96883aec-ddac-4148-8fb4-191536efbe6a',\n",
       "  'HTTPStatusCode': 200,\n",
       "  'HTTPHeaders': {'x-amzn-requestid': '96883aec-ddac-4148-8fb4-191536efbe6a',\n",
       "   'content-type': 'application/x-amz-json-1.1',\n",
       "   'content-length': '98',\n",
       "   'date': 'Sun, 03 Nov 2019 22:53:32 GMT'},\n",
       "  'RetryAttempts': 0}}"
      ]
     },
     "execution_count": 2,
     "metadata": {},
     "output_type": "execute_result"
    }
   ],
   "source": [
    "## Create SageMaker Notebook Instance  --- training code and deploy will run from github repository\n",
    "\n",
    "response = client.create_notebook_instance(\n",
    "    NotebookInstanceName='sm-dev-iris-1',  ## arg \n",
    "    InstanceType='ml.t2.medium',  ## arg\n",
    "    RoleArn='arn:aws:iam::697525789718:role/service-role/AmazonSageMaker-ExecutionRole-20191019T150576',\n",
    "    DirectInternetAccess='Enabled',\n",
    "    VolumeSizeInGB=5,\n",
    "    AcceleratorTypes=[\n",
    "        'ml.eia1.medium',\n",
    "    ],\n",
    "    DefaultCodeRepository='sm-git-dev-repository',  ## chg to field name from above respository code\n",
    "    RootAccess='Enabled'\n",
    ")\n",
    "\n",
    "response"
   ]
  },
  {
   "cell_type": "code",
   "execution_count": 1,
   "metadata": {},
   "outputs": [],
   "source": [
    "###   Use Chris' code to create S3 buckets  \n",
    "\n",
    "import uuid\n",
    "def create_bucket_name(bucket_prefix):\n",
    "    # The generated bucket name must be between 3 and 63 chars long\n",
    "    return ''.join([bucket_prefix, str(uuid.uuid4())])\n",
    "\n",
    "def create_bucket(bucket_prefix, s3_connection):\n",
    "    session = boto3.session.Session()\n",
    "    current_region = session.region_name\n",
    "    # Create Configurations\n",
    "    configs = {}\n",
    "    if current_region != \"us-east-1\":  #arg\n",
    "        config[\"LocationConstraint\"] = current_region\n",
    "\n",
    "    bucket_name = create_bucket_name(bucket_prefix)\n",
    "    \n",
    "    if current_region == \"us-east-1\":  #arg\n",
    "        bucket_response = s3_connection.create_bucket(\n",
    "            Bucket=bucket_name)\n",
    "    else:\n",
    "        bucket_response = s3_connection.create_bucket(\n",
    "            Bucket=bucket_name,\n",
    "            CreateBucketConfiguration={\"LocationConstraint\":current_region})\n",
    "        \n",
    "    print(bucket_name, current_region)\n",
    "    return bucket_name, bucket_response"
   ]
  },
  {
   "cell_type": "code",
   "execution_count": 2,
   "metadata": {},
   "outputs": [
    {
     "name": "stdout",
     "output_type": "stream",
     "text": [
      "iris-trainb3119a0e-42d2-4ac4-a9e8-f3458356f096 us-east-1\n"
     ]
    }
   ],
   "source": [
    "###  Use Chris' code to create \"Training\" bucket\n",
    "\n",
    "import boto3\n",
    "\n",
    "s3_resource = boto3.resource('s3')\n",
    "bucket_name, first_response = create_bucket(\n",
    "    bucket_prefix='iris-train', \n",
    "    s3_connection=s3_resource.meta.client)"
   ]
  },
  {
   "cell_type": "code",
   "execution_count": 3,
   "metadata": {},
   "outputs": [
    {
     "name": "stdout",
     "output_type": "stream",
     "text": [
      "iris-model-artifactsd506bcfd-74e6-437c-aefb-5c74b6dacd24 us-east-1\n"
     ]
    }
   ],
   "source": [
    "###  Use Chris' code to create \"Model Artifacts\" bucket\n",
    "\n",
    "import boto3\n",
    "\n",
    "s3_resource = boto3.resource('s3')\n",
    "bucket_name, first_response = create_bucket(\n",
    "    bucket_prefix='iris-model-artifacts', \n",
    "    s3_connection=s3_resource.meta.client)"
   ]
  },
  {
   "cell_type": "markdown",
   "metadata": {},
   "source": []
  }
 ],
 "metadata": {
  "kernelspec": {
   "display_name": "conda_python3",
   "language": "python",
   "name": "conda_python3"
  },
  "language_info": {
   "codemirror_mode": {
    "name": "ipython",
    "version": 3
   },
   "file_extension": ".py",
   "mimetype": "text/x-python",
   "name": "python",
   "nbconvert_exporter": "python",
   "pygments_lexer": "ipython3",
   "version": "3.6.5"
  }
 },
 "nbformat": 4,
 "nbformat_minor": 2
}
