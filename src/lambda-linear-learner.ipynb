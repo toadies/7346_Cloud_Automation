{
 "cells": [
  {
   "cell_type": "code",
   "execution_count": null,
   "metadata": {},
   "outputs": [],
   "source": [
    "#\n",
    "#    Lambda Function code\n",
    "#\n",
    "#    Steps:\n",
    "#    1.  In AWS create lambda function, provide name, Python 3, IAM execution role that has permissions to invoke \n",
    "#        Sagemaker endpoint\n",
    "#    2.  Copy and paste below code into Lambda function.   In ENVIRONMENT VARIABLES place 'ENDPOINT_NAME' in \"Key\" with \n",
    "#        Sagemaker END_POINT want to invoke from Lambda in \"Value\"\n",
    "#    3.  Setup Lambda test and run.  Data cannot have header and if more than one row being submitted then must \n",
    "#        have \"/n\" control character between rows of csv data\n",
    "#    4.  Once complete Lambda setup and test proceed to creating an AWS API pointing to Lambda function with \n",
    "#        same name you used in #1 above\n",
    "#    5.  Test the API with same data used in Lambda test\n",
    "#    6.  If API test works, then deploy the AWS API.  Copy the url from clicking on method being used. \n",
    "#    7.  Either create a custom html web site that can call your deployed link (e.g. post, put, get, function) or \n",
    "#        you can use Postman.   Please note I found that you will get {\"message\":\"Missing Authentication Token\"} or {\"message\": \"Forbidden\"} message if you are not\n",
    "#        using correct method (e.g. POST or GET) in html or Postman.  Also, the url may need a \"/\" at end of url after you \n",
    "#        copy the deployed AWS API url from AWS API method.\n",
    "#   \n",
    "#\n",
    "\n",
    "import os\n",
    "import io\n",
    "import boto3\n",
    "import json\n",
    "import csv\n",
    "\n",
    "# grab environment variables\n",
    "ENDPOINT_NAME = os.environ['ENDPOINT_NAME']  ## args\n",
    "runtime= boto3.client('runtime.sagemaker')\n",
    "\n",
    "def lambda_handler(event, context):\n",
    "    print(\"Received event: \" + json.dumps(event, indent=2))\n",
    "    \n",
    "    data = json.loads(json.dumps(event))\n",
    "    payload = data['data']\n",
    "    print(payload)\n",
    "    \n",
    "    response = runtime.invoke_endpoint(EndpointName=ENDPOINT_NAME,\n",
    "                                       ContentType='text/csv',\n",
    "                                       Body=payload)\n",
    "    print(response)\n",
    "    result = json.loads(response['Body'].read().decode())\n",
    "    print(result)\n",
    "    \n",
    "#   Custom formatting of data code can be placed below to make the return result more user friendly.\n",
    "\n",
    "#   EXAMPLE:   pred = int(result['predictions'][0]['predicted_label'])\n",
    "#              predicted_label = 'setosa iris' if pred == 1 else if 'not setosa iris'  \n",
    "#              return predicted_label\n",
    "\n",
    "#   Otherwise, simply return unformatted result.   Comment out below code if formatting and returning formatted result\n",
    "\n",
    "    return {\n",
    "        'statusCode': json.dumps('Success!'),\n",
    "        'body': result\n",
    "    }"
   ]
  },
  {
   "cell_type": "code",
   "execution_count": null,
   "metadata": {},
   "outputs": [],
   "source": []
  }
 ],
 "metadata": {
  "kernelspec": {
   "display_name": "conda_python3",
   "language": "python",
   "name": "conda_python3"
  },
  "language_info": {
   "codemirror_mode": {
    "name": "ipython",
    "version": 3
   },
   "file_extension": ".py",
   "mimetype": "text/x-python",
   "name": "python",
   "nbconvert_exporter": "python",
   "pygments_lexer": "ipython3",
   "version": "3.6.5"
  }
 },
 "nbformat": 4,
 "nbformat_minor": 2
}
